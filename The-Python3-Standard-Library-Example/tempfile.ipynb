{
 "cells": [
  {
   "cell_type": "code",
   "execution_count": 2,
   "metadata": {},
   "outputs": [
    {
     "name": "stdout",
     "output_type": "stream",
     "text": [
      "temp: <tempfile._TemporaryFileWrapper object at 0x00000137848AAC18>\n",
      "C:\\Users\\johnw\\AppData\\Local\\Temp\\tmpth0jh84p\n"
     ]
    }
   ],
   "source": [
    "import tempfile\n",
    "with tempfile.NamedTemporaryFile() as temp:\n",
    "    print(\"temp:\",temp)\n",
    "    print(temp.name) # C:\\Users\\xxx\\AppData\\Local\\Temp\\tmpth0jh84p\n",
    "\n",
    "    \n",
    "    "
   ]
  },
  {
   "cell_type": "code",
   "execution_count": 3,
   "metadata": {},
   "outputs": [
    {
     "name": "stdout",
     "output_type": "stream",
     "text": [
      "C:\\Users\\johnw\\AppData\\Local\\Temp\\tmp3pcvlcoz\n"
     ]
    }
   ],
   "source": [
    "with tempfile.TemporaryDirectory() as directory_name:\n",
    "    print(directory_name) # C:\\Users\\johnw\\AppData\\Local\\Temp\\tmp3pcvlcoz\n"
   ]
  },
  {
   "cell_type": "code",
   "execution_count": 7,
   "metadata": {},
   "outputs": [
    {
     "name": "stdout",
     "output_type": "stream",
     "text": [
      "temp: <tempfile._TemporaryFileWrapper object at 0x00000137848AA588>\n",
      "C:\\Users\\johnw\\AppData\\Local\\Temp\\prefix_7x33hie8_suffix\n"
     ]
    }
   ],
   "source": [
    "import tempfile\n",
    "with tempfile.NamedTemporaryFile(suffix=\"_suffix\",prefix=\"prefix_\",dir=\"C:\\\\Users\\\\johnw\\\\AppData\\\\Local\\\\Temp\") as temp:\n",
    "    print(\"temp:\",temp)\n",
    "    print(temp.name) # C:\\Users\\johnw\\AppData\\Local\\Temp\\prefix_7x33hie8_suffix\n"
   ]
  },
  {
   "cell_type": "code",
   "execution_count": 8,
   "metadata": {},
   "outputs": [
    {
     "data": {
      "text/plain": [
       "'1-Text.md.copy'"
      ]
     },
     "execution_count": 8,
     "metadata": {},
     "output_type": "execute_result"
    }
   ],
   "source": [
    "import shutil \n",
    "shutil.copyfile(\"1-Text.md\",\"1-Text.md.copy\") # 返回 1-Text.md.copy"
   ]
  },
  {
   "cell_type": "code",
   "execution_count": null,
   "metadata": {},
   "outputs": [],
   "source": []
  }
 ],
 "metadata": {
  "kernelspec": {
   "display_name": "Python 3",
   "language": "python",
   "name": "python3"
  },
  "language_info": {
   "codemirror_mode": {
    "name": "ipython",
    "version": 3
   },
   "file_extension": ".py",
   "mimetype": "text/x-python",
   "name": "python",
   "nbconvert_exporter": "python",
   "pygments_lexer": "ipython3",
   "version": "3.6.4"
  }
 },
 "nbformat": 4,
 "nbformat_minor": 2
}
