{
 "cells": [
  {
   "cell_type": "code",
   "execution_count": 1,
   "metadata": {},
   "outputs": [
    {
     "name": "stdout",
     "output_type": "stream",
     "text": [
      "Hello\n"
     ]
    }
   ],
   "source": [
    "print(\"Hello\")"
   ]
  },
  {
   "cell_type": "code",
   "execution_count": 13,
   "metadata": {},
   "outputs": [
    {
     "name": "stdout",
     "output_type": "stream",
     "text": [
      "b'68656c6c6f20776f726c64'\n",
      "<_io.BufferedRandom name=56>\n",
      "b'68656c6c6f20776f726c64'\n"
     ]
    }
   ],
   "source": [
    "import array\n",
    "import tempfile\n",
    "import binascii\n",
    "s = b'hello world'\n",
    "a = array.array('b',s)\n",
    "print(binascii.hexlify(a))\n",
    "output = tempfile.NamedTemporaryFile()\n",
    "\n",
    "print(output.file) # <_io.BufferedRandom name=56>\n",
    "\n",
    "a.tofile(output.file)\n",
    "output.flush()\n",
    "with open(output.name,'rb')as f:\n",
    "    input_data = f.read()\n",
    "    print(binascii.hexlify(input_data))"
   ]
  },
  {
   "cell_type": "code",
   "execution_count": null,
   "metadata": {},
   "outputs": [],
   "source": []
  }
 ],
 "metadata": {
  "kernelspec": {
   "display_name": "Python 3",
   "language": "python",
   "name": "python3"
  },
  "language_info": {
   "codemirror_mode": {
    "name": "ipython",
    "version": 3
   },
   "file_extension": ".py",
   "mimetype": "text/x-python",
   "name": "python",
   "nbconvert_exporter": "python",
   "pygments_lexer": "ipython3",
   "version": "3.7.1"
  }
 },
 "nbformat": 4,
 "nbformat_minor": 2
}
