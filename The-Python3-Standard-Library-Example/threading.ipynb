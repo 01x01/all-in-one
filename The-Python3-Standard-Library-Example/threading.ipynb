{
 "cells": [
  {
   "cell_type": "code",
   "execution_count": 10,
   "metadata": {},
   "outputs": [
    {
     "name": "stdout",
     "output_type": "stream",
     "text": [
      "work2019-04-01 15:00:08:097830\n",
      "work2019-04-01 15:00:08:110863\n",
      "\n",
      "\n",
      "work2019-04-01 15:00:08:124904\n",
      "work2019-04-01 15:00:08:135435\n",
      "\n",
      "work2019-04-01 15:00:08:147477\n",
      "\n",
      "\n",
      "end\n",
      "end\n",
      "\n",
      "\n",
      "end\n",
      "end\n",
      "end\n",
      "\n",
      "main end\n",
      "\n",
      "\n"
     ]
    }
   ],
   "source": [
    "import threading\n",
    "from datetime import datetime \n",
    "import time\n",
    "\n",
    "def work():\n",
    "    print(\"work\"+datetime.strftime(datetime.now(),\"%Y-%m-%d %H:%M:%S:%f\") + \"\\n\")\n",
    "    time.sleep(2)\n",
    "    print(\"end\\n\")\n",
    "    \n",
    "\n",
    "ts = [threading.Thread(target=work) for i in range(5)]\n",
    "\n",
    "for t in ts:\n",
    "    t.start()\n",
    "    \n",
    "t.join()\n",
    "print(\"main end\")"
   ]
  },
  {
   "cell_type": "code",
   "execution_count": 16,
   "metadata": {},
   "outputs": [
    {
     "name": "stdout",
     "output_type": "stream",
     "text": [
      "work2019-04-01 15:14:29:184354\n",
      "work2019-04-01 15:14:29:195890\n",
      "\n",
      "\n",
      "work2019-04-01 15:14:29:209430\n",
      "\n",
      "work2019-04-01 15:14:29:222469\n",
      "work2019-04-01 15:14:29:233493\n",
      "\n",
      "\n",
      "end\n",
      "end\n",
      "end\n",
      "endend\n",
      "\n",
      "main end\n"
     ]
    }
   ],
   "source": [
    "class MyThread(threading.Thread):\n",
    "    def run(self):\n",
    "        print(\"work\"+datetime.strftime(datetime.now(),\"%Y-%m-%d %H:%M:%S:%f\") + \"\\n\")\n",
    "        time.sleep(2)\n",
    "        print(\"end\")\n",
    "        \n",
    "\n",
    "for i in range(5):\n",
    "    t = MyThread()\n",
    "    t.start()\n",
    "t.join()\n",
    "print(\"main end\")\n",
    "        "
   ]
  },
  {
   "cell_type": "code",
   "execution_count": 19,
   "metadata": {},
   "outputs": [
    {
     "name": "stdout",
     "output_type": "stream",
     "text": [
      "H2019-04-01 15:21:02:383365\n",
      "\n",
      "e2019-04-01 15:21:02:395902\n",
      "\n",
      "l2019-04-01 15:21:02:395902\n",
      "\n",
      "l2019-04-01 15:21:02:395902\n",
      "\n",
      "o2019-04-01 15:21:02:395902\n",
      "\n",
      "H2019-04-01 15:21:02:398911\n",
      "H2019-04-01 15:21:02:413454\n",
      "\n",
      "\n",
      "e2019-04-01 15:21:02:423482\n",
      "\n",
      "l2019-04-01 15:21:02:424484\n",
      "\n",
      "l2019-04-01 15:21:02:424484\n",
      "\n",
      "o2019-04-01 15:21:02:424484\n",
      "H2019-04-01 15:21:02:424484\n",
      "e2019-04-01 15:21:02:435511\n",
      "\n",
      "\n",
      "l2019-04-01 15:21:02:436516\n",
      "\n",
      "l2019-04-01 15:21:02:436516\n",
      "\n",
      "o2019-04-01 15:21:02:436516\n",
      "\n",
      "\n",
      "H2019-04-01 15:21:02:437528\n",
      "e2019-04-01 15:21:02:447544\n",
      "\n",
      "l2019-04-01 15:21:02:448548\n",
      "\n",
      "l2019-04-01 15:21:02:448548\n",
      "\n",
      "o2019-04-01 15:21:02:448548\n",
      "\n",
      "\n",
      "e2019-04-01 15:21:02:449550\n",
      "\n",
      "l2019-04-01 15:21:02:449550\n",
      "\n",
      "l2019-04-01 15:21:02:449550\n",
      "\n",
      "o2019-04-01 15:21:02:449550\n",
      "\n",
      "end\n",
      "endend\n",
      "\n",
      "end\n",
      "end\n",
      "main end\n"
     ]
    }
   ],
   "source": [
    "class MyThread(threading.Thread):\n",
    "    def __init__(self,group=None,target=None,name=None,args=(),kwargs=None,*,daemon=None):\n",
    "        super().__init__(group=group,target=target,name=name,daemon=daemon)\n",
    "        self.args = args\n",
    "        self.kwargs = kwargs\n",
    "    \n",
    "    def run(self):\n",
    "        for t in self.args:\n",
    "            print(t+datetime.strftime(datetime.now(),\"%Y-%m-%d %H:%M:%S:%f\") + \"\\n\")\n",
    "\n",
    "        time.sleep(2)\n",
    "        print(\"end\")\n",
    "        \n",
    "\n",
    "for i in range(5):\n",
    "    t = MyThread(args=(str(i),))\n",
    "    t.start()\n",
    "t.join()\n",
    "print(\"main end\")\n",
    "        "
   ]
  },
  {
   "cell_type": "code",
   "execution_count": 36,
   "metadata": {},
   "outputs": [
    {
     "name": "stdout",
     "output_type": "stream",
     "text": [
      "cancel: t2\n",
      "t1: working\n",
      "\n",
      "done\n"
     ]
    }
   ],
   "source": [
    "def delayed():\n",
    "    print(threading.current_thread().name+\": working\\n\")\n",
    "    \n",
    "t1 = threading.Timer(0.3,delayed)\n",
    "t1.setName('t1')\n",
    "t2 = threading.Timer(0.3,delayed)\n",
    "t2.setName(\"t2\")\n",
    "t1.start()\n",
    "t2.start()\n",
    "print(\"cancel: \"+t2.getName())\n",
    "time.sleep(0.2)\n",
    "t2.cancel()\n",
    "t1.join()\n",
    "print(\"done\")"
   ]
  },
  {
   "cell_type": "code",
   "execution_count": null,
   "metadata": {},
   "outputs": [],
   "source": []
  },
  {
   "cell_type": "code",
   "execution_count": null,
   "metadata": {},
   "outputs": [],
   "source": []
  },
  {
   "cell_type": "code",
   "execution_count": null,
   "metadata": {},
   "outputs": [],
   "source": []
  }
 ],
 "metadata": {
  "kernelspec": {
   "display_name": "Python 3",
   "language": "python",
   "name": "python3"
  },
  "language_info": {
   "codemirror_mode": {
    "name": "ipython",
    "version": 3
   },
   "file_extension": ".py",
   "mimetype": "text/x-python",
   "name": "python",
   "nbconvert_exporter": "python",
   "pygments_lexer": "ipython3",
   "version": "3.6.4"
  }
 },
 "nbformat": 4,
 "nbformat_minor": 2
}
