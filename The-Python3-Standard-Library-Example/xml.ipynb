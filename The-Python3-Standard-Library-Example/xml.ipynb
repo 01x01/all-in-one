{
 "cells": [
  {
   "cell_type": "code",
   "execution_count": 1,
   "metadata": {},
   "outputs": [
    {
     "name": "stdout",
     "output_type": "stream",
     "text": [
      "<xml.etree.ElementTree.ElementTree object at 0x0000012920A1AA58>\n"
     ]
    }
   ],
   "source": [
    "from xml.etree import ElementTree\n",
    "with open(\"podcasts.opml\",'rt') as f:\n",
    "    tree = ElementTree.parse(f)\n",
    "    \n",
    "print(tree)"
   ]
  },
  {
   "cell_type": "code",
   "execution_count": 2,
   "metadata": {},
   "outputs": [
    {
     "name": "stdout",
     "output_type": "stream",
     "text": [
      "opml\n",
      "head\n",
      "title\n",
      "dateCreated\n",
      "dateModified\n",
      "body\n",
      "outline\n",
      "outline\n",
      "outline\n",
      "outline\n",
      "outline\n"
     ]
    }
   ],
   "source": [
    "for node in tree.iter():\n",
    "    print(node.tag)"
   ]
  },
  {
   "cell_type": "code",
   "execution_count": 6,
   "metadata": {},
   "outputs": [
    {
     "name": "stdout",
     "output_type": "stream",
     "text": [
      "99% Invisible : http://feeds.99percentinvisible.org/99percentinvisible\n",
      "Talk Python to Me : https://talkpython.fm/episodes/rss\n",
      "Podcast.__init__ : http://podcastinit.podbean.com/feed/\n"
     ]
    }
   ],
   "source": [
    "for node in tree.iter('outline'):\n",
    "    name = node.attrib.get(\"text\")\n",
    "    url = node.attrib.get('xmlUrl')\n",
    "    if name and url:\n",
    "        print(name,\":\",url)"
   ]
  },
  {
   "cell_type": "code",
   "execution_count": null,
   "metadata": {},
   "outputs": [],
   "source": []
  }
 ],
 "metadata": {
  "kernelspec": {
   "display_name": "Python 3",
   "language": "python",
   "name": "python3"
  },
  "language_info": {
   "codemirror_mode": {
    "name": "ipython",
    "version": 3
   },
   "file_extension": ".py",
   "mimetype": "text/x-python",
   "name": "python",
   "nbconvert_exporter": "python",
   "pygments_lexer": "ipython3",
   "version": "3.6.4"
  }
 },
 "nbformat": 4,
 "nbformat_minor": 2
}
