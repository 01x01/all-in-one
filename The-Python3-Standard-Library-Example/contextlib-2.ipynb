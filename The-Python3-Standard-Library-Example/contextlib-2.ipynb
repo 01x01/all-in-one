{
 "cells": [
  {
   "cell_type": "code",
   "execution_count": 3,
   "metadata": {},
   "outputs": [
    {
     "name": "stdout",
     "output_type": "stream",
     "text": [
      "Hello Init\n",
      "enter obj\n",
      "Hello\n",
      "exit obj\n"
     ]
    }
   ],
   "source": [
    "import contextlib\n",
    "class Context(contextlib.ContextDecorator):\n",
    "    def __init__(self):\n",
    "        print(\"Hello Init\")\n",
    "    \n",
    "    def __enter__(self):\n",
    "        print(\"enter obj\")\n",
    "        return self\n",
    "    \n",
    "    def __exit__(self,exc_type,exc_val,exc_tb):\n",
    "        print(\"exit obj\")\n",
    "        \n",
    "\n",
    "@Context()\n",
    "def func(message):\n",
    "    print(message)\n",
    "    \n",
    "func(\"Hello\")"
   ]
  },
  {
   "cell_type": "code",
   "execution_count": 6,
   "metadata": {},
   "outputs": [
    {
     "name": "stdout",
     "output_type": "stream",
     "text": [
      "Entering.\n",
      "inside with statement:  {}\n",
      "exiting..\n"
     ]
    }
   ],
   "source": [
    "import contextlib\n",
    "@contextlib.contextmanager\n",
    "def make_context():\n",
    "    print(\"Entering.\")\n",
    "    try:\n",
    "        yield {}\n",
    "    except RuntimeError as err:\n",
    "        print(\"Error \",err)\n",
    "    finally:\n",
    "        print(\"exiting..\")\n",
    "        \n",
    "with make_context() as v:\n",
    "    print(\"inside with statement: \",v)"
   ]
  },
  {
   "cell_type": "code",
   "execution_count": 8,
   "metadata": {},
   "outputs": [
    {
     "name": "stdout",
     "output_type": "stream",
     "text": [
      "Entering.\n",
      "I am func \n",
      "exiting..\n"
     ]
    }
   ],
   "source": [
    "@make_context()\n",
    "def func():\n",
    "    print(\"I am func \")\n",
    "\n",
    "func()"
   ]
  },
  {
   "cell_type": "code",
   "execution_count": 11,
   "metadata": {},
   "outputs": [
    {
     "name": "stdout",
     "output_type": "stream",
     "text": [
      "init obj\n",
      "do some work xxxxx\n",
      "xxxx\n",
      "close obj\n"
     ]
    }
   ],
   "source": [
    "class Contextlib:\n",
    "    def __init__(self):\n",
    "        print(\"init obj\")\n",
    "        self.status = \"open\"\n",
    "    \n",
    "    def __enter__(self):\n",
    "        print(\"enter obj\")\n",
    "        return self\n",
    "    def do_some_work(self):\n",
    "        print(\"do some work xxxxx\")\n",
    "    \n",
    "    def close(self):\n",
    "        print(\"close obj\")\n",
    "        self.status = \"close\"\n",
    "\n",
    "with contextlib.closing(Contextlib()) as door:\n",
    "    door.do_some_work()\n",
    "    print(\"xxxx\")"
   ]
  },
  {
   "cell_type": "code",
   "execution_count": null,
   "metadata": {},
   "outputs": [],
   "source": []
  }
 ],
 "metadata": {
  "kernelspec": {
   "display_name": "Python 3",
   "language": "python",
   "name": "python3"
  },
  "language_info": {
   "codemirror_mode": {
    "name": "ipython",
    "version": 3
   },
   "file_extension": ".py",
   "mimetype": "text/x-python",
   "name": "python",
   "nbconvert_exporter": "python",
   "pygments_lexer": "ipython3",
   "version": "3.6.4"
  }
 },
 "nbformat": 4,
 "nbformat_minor": 2
}
