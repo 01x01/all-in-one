{
 "cells": [
  {
   "cell_type": "code",
   "execution_count": 2,
   "metadata": {},
   "outputs": [
    {
     "name": "stdout",
     "output_type": "stream",
     "text": [
      "init object\n",
      "enter object\n",
      "doing work in the context!\n",
      "exit\n"
     ]
    }
   ],
   "source": [
    "class Context():\n",
    "    def __init__(self):\n",
    "        print(\"init object\")\n",
    "    \n",
    "    def __enter__(self):\n",
    "        print(\"enter object\")\n",
    "        return self\n",
    "    \n",
    "    def __exit__(self,exc_type,exc_val,exc_tb):\n",
    "        print(\"exit\")\n",
    "        \n",
    "\n",
    "        \n",
    "with Context():\n",
    "    print(\"doing work in the context!\")"
   ]
  },
  {
   "cell_type": "code",
   "execution_count": 6,
   "metadata": {},
   "outputs": [
    {
     "name": "stdout",
     "output_type": "stream",
     "text": [
      "init\n",
      "enter obj\n",
      "init obj\n",
      "del obj\n",
      "i am obj and i do some work\n",
      "exit\n"
     ]
    }
   ],
   "source": [
    "class contextObj:\n",
    "    def __init__(self,context):\n",
    "        print(\"init obj\")\n",
    "    def do_some_work(self):\n",
    "        print(\"i am obj and i do some work\")\n",
    "    def __del__(self):\n",
    "        print(\"del obj\")\n",
    "\n",
    "class Context:\n",
    "    def __init__(self):\n",
    "        print(\"init\")\n",
    "    \n",
    "    def __enter__(self):\n",
    "        print(\"enter obj\")\n",
    "        return contextObj(self)\n",
    "    \n",
    "    def __exit__(self,exc_type,exc_val,exc_tb):\n",
    "        print(\"exit\")\n",
    "        \n",
    "with Context() as c:\n",
    "    c.do_some_work()\n"
   ]
  },
  {
   "cell_type": "code",
   "execution_count": 8,
   "metadata": {},
   "outputs": [
    {
     "name": "stdout",
     "output_type": "stream",
     "text": [
      "Context.__init__()\n",
      "Context.__enter__()\n",
      "WithinContext.__init__(<__main__.Context object at 0x102749f28>)\n",
      "del obj\n",
      "WithinContext.do_something()\n",
      "Context.__exit__()\n"
     ]
    }
   ],
   "source": [
    "class WithinContext:\n",
    "    def __init__(self, context): \n",
    "        print('WithinContext.__init__({})'.format(context))\n",
    "    def do_something(self):\n",
    "        print('WithinContext.do_something()')\n",
    "    def __del__(self):\n",
    "        print('WithinContext.__del__')\n",
    "        \n",
    "class Context:\n",
    "    def __init__(self):\n",
    "        print('Context.__init__()')\n",
    "    def __enter__(self):\n",
    "        print('Context.__enter__()')\n",
    "        return WithinContext(self)\n",
    "    def __exit__(self, exc_type, exc_val, exc_tb):\n",
    "        print('Context.__exit__()')\n",
    "        \n",
    "with Context() as c:\n",
    "    c.do_something()"
   ]
  },
  {
   "cell_type": "code",
   "execution_count": null,
   "metadata": {},
   "outputs": [],
   "source": []
  }
 ],
 "metadata": {
  "kernelspec": {
   "display_name": "Python 3",
   "language": "python",
   "name": "python3"
  },
  "language_info": {
   "codemirror_mode": {
    "name": "ipython",
    "version": 3
   },
   "file_extension": ".py",
   "mimetype": "text/x-python",
   "name": "python",
   "nbconvert_exporter": "python",
   "pygments_lexer": "ipython3",
   "version": "3.7.1"
  }
 },
 "nbformat": 4,
 "nbformat_minor": 2
}
