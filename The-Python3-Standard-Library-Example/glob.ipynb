{
 "cells": [
  {
   "cell_type": "code",
   "execution_count": 2,
   "metadata": {},
   "outputs": [
    {
     "name": "stdout",
     "output_type": "stream",
     "text": [
      ".\\array.ipynb\n",
      ".\\bisect.ipynb\n",
      ".\\collections.ipynb\n",
      ".\\contextlib-2.ipynb\n",
      ".\\functools.ipynb\n",
      ".\\glob.ipynb\n",
      ".\\headpq.ipynb\n",
      ".\\itertools.ipynb\n",
      ".\\mathematics.ipynb\n",
      ".\\os.path.ipynb\n",
      ".\\pprint.ipynb\n",
      ".\\queue.ipynb\n"
     ]
    }
   ],
   "source": [
    "import glob\n",
    "for i in glob.glob(\"./*.ipynb\"):\n",
    "    print(i)"
   ]
  },
  {
   "cell_type": "code",
   "execution_count": 20,
   "metadata": {},
   "outputs": [
    {
     "name": "stdout",
     "output_type": "stream",
     "text": [
      ".\\array.ipynb\n",
      ".\\bisect.ipynb\n",
      ".\\collections.ipynb\n",
      ".\\contextlib-2.ipynb\n",
      ".\\functools.ipynb\n",
      ".\\glob.ipynb\n",
      ".\\headpq.ipynb\n",
      ".\\itertools.ipynb\n",
      ".\\mathematics.ipynb\n",
      ".\\os.path.ipynb\n",
      ".\\pprint.ipynb\n",
      ".\\queue.ipynb\n"
     ]
    }
   ],
   "source": [
    "for i in glob.glob(\"./[a-z]*ipynb\"):\n",
    "    print(i)"
   ]
  },
  {
   "cell_type": "code",
   "execution_count": null,
   "metadata": {},
   "outputs": [],
   "source": []
  }
 ],
 "metadata": {
  "kernelspec": {
   "display_name": "Python 3",
   "language": "python",
   "name": "python3"
  },
  "language_info": {
   "codemirror_mode": {
    "name": "ipython",
    "version": 3
   },
   "file_extension": ".py",
   "mimetype": "text/x-python",
   "name": "python",
   "nbconvert_exporter": "python",
   "pygments_lexer": "ipython3",
   "version": "3.6.4"
  }
 },
 "nbformat": 4,
 "nbformat_minor": 2
}
