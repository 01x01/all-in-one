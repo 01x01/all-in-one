{
 "cells": [
  {
   "cell_type": "code",
   "execution_count": 1,
   "metadata": {},
   "outputs": [
    {
     "name": "stdout",
     "output_type": "stream",
     "text": [
      "0\n",
      "1\n",
      "2\n",
      "3\n",
      "4\n",
      "5\n",
      "6\n",
      "7\n",
      "8\n",
      "9\n"
     ]
    }
   ],
   "source": [
    "# 基本的队列\n",
    "import queue\n",
    "q = queue.Queue()\n",
    "for i in range(10):\n",
    "    q.put(i)\n",
    "    \n",
    "while not q.empty():\n",
    "    i = q.get()\n",
    "    print(i)\n",
    "    \n",
    "    "
   ]
  },
  {
   "cell_type": "code",
   "execution_count": 2,
   "metadata": {},
   "outputs": [
    {
     "name": "stdout",
     "output_type": "stream",
     "text": [
      "9\n",
      "8\n",
      "7\n",
      "6\n",
      "5\n",
      "4\n",
      "3\n",
      "2\n",
      "1\n",
      "0\n"
     ]
    }
   ],
   "source": [
    "# 基本的队列\n",
    "import queue\n",
    "q = queue.LifoQueue()\n",
    "for i in range(10):\n",
    "    q.put(i)\n",
    "    \n",
    "while not q.empty():\n",
    "    i = q.get()\n",
    "    print(i)"
   ]
  },
  {
   "cell_type": "code",
   "execution_count": 11,
   "metadata": {},
   "outputs": [
    {
     "name": "stdout",
     "output_type": "stream",
     "text": [
      "线程0正在执行： import-10\n",
      "线程1正在执行： import-9\n",
      "线程2正在执行： import-8\n",
      "线程3正在执行： mid - 7\n",
      "\n",
      "\n",
      "\n",
      "\n",
      "线程1正在执行： low - 1\n",
      "线程0正在执行： mid - 6\n",
      "\n",
      "\n"
     ]
    }
   ],
   "source": [
    "# 优先级队列\n",
    "\n",
    "class job(object):\n",
    "    def __init__(self,priority,des):\n",
    "        self.priority = priority\n",
    "        self.des = des\n",
    "        \n",
    "    def __eq__(self,other):\n",
    "        try:\n",
    "            return self.priority == other.priority\n",
    "        except AttributeError:\n",
    "            return NotImplemented\n",
    "        \n",
    "    def __lt__(self,other):\n",
    "        try:\n",
    "            # 设置 > 表示分值越大的，越先执行\n",
    "            return self.priority > other.priority\n",
    "        except AttributeError:\n",
    "            return NotImplemented\n",
    "\n",
    "        \n",
    "import queue\n",
    "import threading \n",
    "import time\n",
    "q = queue.PriorityQueue()\n",
    "\n",
    "q.put(job(9,\"import-9\"))\n",
    "q.put(job(10,\"import-10\"))\n",
    "q.put(job(8,\"import-8\"))\n",
    "q.put(job(7,\"mid - 7\"))\n",
    "q.put(job(6,\"mid - 6\"))\n",
    "q.put(job(1,\"low - 1\"))\n",
    "\n",
    "def consumer(i):\n",
    "    while not q.empty():\n",
    "        item = q.get()\n",
    "        \n",
    "        time.sleep(2)\n",
    "        print(\"线程{}正在执行： \".format(i) + item.des + \"\\n\")\n",
    "        \n",
    "ts = [threading.Thread(target=consumer,args=(i,)) for i in range(4)]\n",
    "\n",
    "for t in ts:\n",
    "    t.start()\n",
    "    \n",
    "for t in ts:\n",
    "    t.join()\n",
    "\n",
    "        "
   ]
  },
  {
   "cell_type": "code",
   "execution_count": null,
   "metadata": {},
   "outputs": [],
   "source": []
  }
 ],
 "metadata": {
  "kernelspec": {
   "display_name": "Python 3",
   "language": "python",
   "name": "python3"
  },
  "language_info": {
   "codemirror_mode": {
    "name": "ipython",
    "version": 3
   },
   "file_extension": ".py",
   "mimetype": "text/x-python",
   "name": "python",
   "nbconvert_exporter": "python",
   "pygments_lexer": "ipython3",
   "version": "3.6.4"
  }
 },
 "nbformat": 4,
 "nbformat_minor": 2
}
