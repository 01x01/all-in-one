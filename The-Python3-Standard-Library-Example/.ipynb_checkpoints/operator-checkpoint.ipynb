{
 "cells": [
  {
   "cell_type": "code",
   "execution_count": 4,
   "metadata": {},
   "outputs": [
    {
     "name": "stdout",
     "output_type": "stream",
     "text": [
      "False\n",
      "True\n",
      "False\n",
      "True\n",
      "True\n"
     ]
    }
   ],
   "source": [
    "from operator import not_,truth,is_,is_not\n",
    "a = -1\n",
    "b = 5\n",
    "print(not_(a)) # False\n",
    "print(truth(a)) # True\n",
    "print(is_(a,b)) # False\n",
    "print(is_not(a,b)) # True\n",
    "print(is_(-1,-1)) # True\n"
   ]
  },
  {
   "cell_type": "code",
   "execution_count": 7,
   "metadata": {},
   "outputs": [
    {
     "name": "stdout",
     "output_type": "stream",
     "text": [
      "True\n",
      "True\n",
      "False\n",
      "True\n",
      "False\n",
      "False\n"
     ]
    }
   ],
   "source": [
    "from operator import * \n",
    "a = 1\n",
    "b = 2\n",
    "c = -1\n",
    "\n",
    "print(lt(a,b)) # a < b true\n",
    "print(le(a,b)) # a <= b true\n",
    "print(eq(a,b)) # a == b false\n",
    "print(ne(a,b)) # a != b true\n",
    "print(ge(a,b)) # a >= b false\n",
    "print(gt(a,b)) # a > b false"
   ]
  },
  {
   "cell_type": "code",
   "execution_count": 19,
   "metadata": {},
   "outputs": [
    {
     "name": "stdout",
     "output_type": "stream",
     "text": [
      "1\n",
      "-1\n",
      "3\n",
      "0\n",
      "1\n",
      "0\n",
      "9\n"
     ]
    }
   ],
   "source": [
    "print(abs(-1)) # 1\n",
    "print(neg(1))  # -1\n",
    "print(add(1,2)) # 3\n",
    "print(floordiv(1,2)) # 1/2=0.5 => 0\n",
    "print(floordiv(5,3)) # 1\n",
    "print(mod(4,2)) # 4 % 2 = 0\n",
    "print(pow(3,2)) # 9\n"
   ]
  },
  {
   "cell_type": "code",
   "execution_count": 20,
   "metadata": {},
   "outputs": [
    {
     "data": {
      "text/plain": [
       "3"
      ]
     },
     "execution_count": 20,
     "metadata": {},
     "output_type": "execute_result"
    }
   ],
   "source": [
    "class MyObj:\n",
    "    def __init__(self,value):\n",
    "        self.value = value\n",
    "    def __add__(self,other):\n",
    "        return self.value + other.value\n",
    "    \n",
    "MyObj(1)+MyObj(2)"
   ]
  },
  {
   "cell_type": "code",
   "execution_count": null,
   "metadata": {},
   "outputs": [],
   "source": []
  }
 ],
 "metadata": {
  "kernelspec": {
   "display_name": "Python 3",
   "language": "python",
   "name": "python3"
  },
  "language_info": {
   "codemirror_mode": {
    "name": "ipython",
    "version": 3
   },
   "file_extension": ".py",
   "mimetype": "text/x-python",
   "name": "python",
   "nbconvert_exporter": "python",
   "pygments_lexer": "ipython3",
   "version": "3.7.1"
  }
 },
 "nbformat": 4,
 "nbformat_minor": 2
}
