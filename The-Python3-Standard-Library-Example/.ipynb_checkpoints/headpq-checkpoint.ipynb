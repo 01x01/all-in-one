{
 "cells": [
  {
   "cell_type": "code",
   "execution_count": 18,
   "metadata": {},
   "outputs": [
    {
     "name": "stdout",
     "output_type": "stream",
     "text": [
      "random: [19, 9, 4, 10, 11]\n",
      "\n",
      "add  19\n",
      "add   9\n",
      "add   4\n",
      "add  10\n",
      "add  11\n",
      "[4, 10, 9, 19, 11]\n"
     ]
    }
   ],
   "source": [
    "import heapq\n",
    "\n",
    "data = [19, 9, 4, 10, 11]\n",
    "heap = []\n",
    "print(\"random:\",data)\n",
    "print()\n",
    "\n",
    "for n in data:\n",
    "    print(\"add {:>3}\".format(n))\n",
    "    heapq.heappush(heap,n)\n",
    "    #show_tree(heap)\n",
    "\n",
    "print(heap) # [4, 10, 9, 19, 11]\n"
   ]
  },
  {
   "cell_type": "code",
   "execution_count": 21,
   "metadata": {},
   "outputs": [
    {
     "name": "stdout",
     "output_type": "stream",
     "text": [
      "1\n"
     ]
    }
   ],
   "source": [
    "a = heapq.heappop([1,6,2,3,4,5])\n",
    "print(a)"
   ]
  },
  {
   "cell_type": "code",
   "execution_count": 29,
   "metadata": {},
   "outputs": [
    {
     "name": "stdout",
     "output_type": "stream",
     "text": [
      "[1, 6, 4, 13, 12, 5, 19]\n"
     ]
    }
   ],
   "source": [
    "data = [2,1,4,6,12,5,19]\n",
    "for i in [0,13]:\n",
    "    heapq.heapreplace(data,i)\n",
    "\n",
    "print(data) "
   ]
  },
  {
   "cell_type": "code",
   "execution_count": 34,
   "metadata": {},
   "outputs": [
    {
     "name": "stdout",
     "output_type": "stream",
     "text": [
      "all data: [1, 6, 4, 13, 12, 5, 19]\n",
      "最大的三个数: [19, 13, 12]\n",
      "最小的三个数： [1, 4, 5]\n"
     ]
    }
   ],
   "source": [
    "print(\"all data:\",data)\n",
    "print(\"最大的三个数:\", heapq.nlargest(3,data))\n",
    "print(\"最小的三个数：\", heapq.nsmallest(3,data))\n"
   ]
  },
  {
   "cell_type": "code",
   "execution_count": 37,
   "metadata": {},
   "outputs": [
    {
     "name": "stdout",
     "output_type": "stream",
     "text": [
      "[[33, 58, 71, 88, 95], [10, 11, 17, 38, 91], [13, 18, 39, 61, 63], [20, 27, 31, 42, 45]]\n",
      "10 11 13 17 18 20 27 31 33 38 39 42 45 58 61 63 71 88 91 95 "
     ]
    }
   ],
   "source": [
    "import random \n",
    "random.seed(2016)\n",
    "data = []\n",
    "\n",
    "for i in range(4):\n",
    "    new_data = list(random.sample(range(1,101),5))\n",
    "    new_data.sort()\n",
    "    data.append(new_data)\n",
    "    \n",
    "    \n",
    "print(data)\n",
    "for i in heapq.merge(*data):\n",
    "    print(i,end=\" \")\n",
    "    "
   ]
  },
  {
   "cell_type": "code",
   "execution_count": null,
   "metadata": {},
   "outputs": [],
   "source": []
  }
 ],
 "metadata": {
  "kernelspec": {
   "display_name": "Python 3",
   "language": "python",
   "name": "python3"
  },
  "language_info": {
   "codemirror_mode": {
    "name": "ipython",
    "version": 3
   },
   "file_extension": ".py",
   "mimetype": "text/x-python",
   "name": "python",
   "nbconvert_exporter": "python",
   "pygments_lexer": "ipython3",
   "version": "3.6.4"
  }
 },
 "nbformat": 4,
 "nbformat_minor": 2
}
