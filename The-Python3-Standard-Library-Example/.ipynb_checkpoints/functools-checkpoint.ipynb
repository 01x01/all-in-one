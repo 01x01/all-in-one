{
 "cells": [
  {
   "cell_type": "code",
   "execution_count": 3,
   "metadata": {},
   "outputs": [
    {
     "name": "stdout",
     "output_type": "stream",
     "text": [
      "This is user profile\n"
     ]
    }
   ],
   "source": [
    "import functools\n",
    "\n",
    "\n",
    "def auth(username,password):\n",
    "    def decorator(func):\n",
    "        def wrapper(*args,**kw):\n",
    "            if username == \"johnw\" and password == '123':\n",
    "                return func(*args,**kw)\n",
    "            else:\n",
    "                return \"auth failed\"\n",
    "        return wrapper\n",
    "    return decorator\n",
    "\n",
    "\n",
    "@auth(\"johnw\",'123')\n",
    "def user_profile():\n",
    "    print(\"This is user profile\")\n",
    "    \n",
    "\n",
    "user_profile() # This is user profile\n",
    "    "
   ]
  },
  {
   "cell_type": "code",
   "execution_count": null,
   "metadata": {},
   "outputs": [],
   "source": []
  }
 ],
 "metadata": {
  "kernelspec": {
   "display_name": "Python 3",
   "language": "python",
   "name": "python3"
  },
  "language_info": {
   "codemirror_mode": {
    "name": "ipython",
    "version": 3
   },
   "file_extension": ".py",
   "mimetype": "text/x-python",
   "name": "python",
   "nbconvert_exporter": "python",
   "pygments_lexer": "ipython3",
   "version": "3.6.4"
  }
 },
 "nbformat": 4,
 "nbformat_minor": 2
}
