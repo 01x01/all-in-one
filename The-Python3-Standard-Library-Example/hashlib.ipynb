{
 "cells": [
  {
   "cell_type": "code",
   "execution_count": 1,
   "metadata": {},
   "outputs": [],
   "source": [
    "import hashlib\n",
    "text = \"\"\"\n",
    "Lorem ipsum dolor sit amet, consectetur adipisicing\n",
    "elit, sed do eiusmod tempor incididunt ut labore et dolore magna\n",
    "aliqua. Ut enim ad minim veniam, quis nostrud exercitation\n",
    "ullamco laboris nisi ut aliquip ex ea commodo consequat. Duis\n",
    "aute irure dolor in reprehenderit in voluptate velit esse cillum\n",
    "dolore eu fugiat nulla pariatur. Excepteur sint occaecat\n",
    "cupidatat non proident, sunt in culpa qui officia deserunt\n",
    "mollit anim id est laborum\n",
    "\"\"\""
   ]
  },
  {
   "cell_type": "code",
   "execution_count": 2,
   "metadata": {},
   "outputs": [
    {
     "name": "stdout",
     "output_type": "stream",
     "text": [
      "d1071c5301297f6844eeb2511335baf1\n"
     ]
    }
   ],
   "source": [
    "# MD5\n",
    "h = hashlib.md5()\n",
    "h.update(text.encode(\"utf-8\"))\n",
    "print(h.hexdigest()) # d1071c5301297f6844eeb2511335baf1"
   ]
  },
  {
   "cell_type": "code",
   "execution_count": 3,
   "metadata": {},
   "outputs": [
    {
     "name": "stdout",
     "output_type": "stream",
     "text": [
      "baeadf8644a10ba8ab44bd3deab53e70ec8ca1d0\n"
     ]
    }
   ],
   "source": [
    "# SHA1\n",
    "h = hashlib.sha1()\n",
    "h.update(text.encode(\"utf-8\"))\n",
    "print(h.hexdigest()) # baeadf8644a10ba8ab44bd3deab53e70ec8ca1d0"
   ]
  },
  {
   "cell_type": "code",
   "execution_count": 4,
   "metadata": {},
   "outputs": [
    {
     "data": {
      "text/plain": [
       "'51fd782e262cd6ca4a4079144a08f65808ab1c82e79744fa9708ac5a5c177628'"
      ]
     },
     "execution_count": 4,
     "metadata": {},
     "output_type": "execute_result"
    }
   ],
   "source": [
    "def add_hashlib(algorithms,text):\n",
    "    h = hashlib.new(algorithms)\n",
    "    h.update(text.encode(\"utf-8\"))\n",
    "    return h.hexdigest()\n",
    "\n",
    "add_hashlib(\"sha256\",text) # 51fd782e262cd6ca4a4079144a08f65808ab1c82e79744fa9708ac5a5c177628"
   ]
  }
 ],
 "metadata": {
  "kernelspec": {
   "display_name": "Python 3",
   "language": "python",
   "name": "python3"
  },
  "language_info": {
   "codemirror_mode": {
    "name": "ipython",
    "version": 3
   },
   "file_extension": ".py",
   "mimetype": "text/x-python",
   "name": "python",
   "nbconvert_exporter": "python",
   "pygments_lexer": "ipython3",
   "version": "3.6.4"
  }
 },
 "nbformat": 4,
 "nbformat_minor": 2
}
