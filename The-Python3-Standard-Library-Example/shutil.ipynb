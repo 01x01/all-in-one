{
 "cells": [
  {
   "cell_type": "code",
   "execution_count": 2,
   "metadata": {},
   "outputs": [
    {
     "data": {
      "text/plain": [
       "os.stat_result(st_mode=33206, st_ino=1125899907203011, st_dev=2017085810, st_nlink=1, st_uid=0, st_gid=0, st_size=3409, st_atime=1551837492, st_mtime=1551837492, st_ctime=1551837492)"
      ]
     },
     "execution_count": 2,
     "metadata": {},
     "output_type": "execute_result"
    }
   ],
   "source": [
    "import shutil,os\n",
    "os.stat(\"1-Text.md\")"
   ]
  },
  {
   "cell_type": "code",
   "execution_count": 3,
   "metadata": {},
   "outputs": [
    {
     "data": {
      "text/plain": [
       "os.stat_result(st_mode=33206, st_ino=5910974511406258, st_dev=2017085810, st_nlink=1, st_uid=0, st_gid=0, st_size=3409, st_atime=1553650750, st_mtime=1553650750, st_ctime=1553650750)"
      ]
     },
     "execution_count": 3,
     "metadata": {},
     "output_type": "execute_result"
    }
   ],
   "source": [
    "shutil.copyfile(\"1-Text.md\",\"1-Text.md.copy\")\n",
    "os.stat(\"1-Text.md.copy\")"
   ]
  },
  {
   "cell_type": "code",
   "execution_count": 4,
   "metadata": {},
   "outputs": [
    {
     "data": {
      "text/plain": [
       "os.stat_result(st_mode=33206, st_ino=29554872555101372, st_dev=2017085810, st_nlink=1, st_uid=0, st_gid=0, st_size=3409, st_atime=1553650776, st_mtime=1553650776, st_ctime=1553650776)"
      ]
     },
     "execution_count": 4,
     "metadata": {},
     "output_type": "execute_result"
    }
   ],
   "source": [
    "shutil.copy(\"1-Text.md\",\"1-Text.md.copy2\")\n",
    "os.stat(\"1-Text.md.copy2\")"
   ]
  },
  {
   "cell_type": "code",
   "execution_count": 14,
   "metadata": {},
   "outputs": [
    {
     "data": {
      "text/plain": [
       "'C:\\\\all-in-one\\\\The-Python3-Standard-Library-Example\\\\code'"
      ]
     },
     "execution_count": 14,
     "metadata": {},
     "output_type": "execute_result"
    }
   ],
   "source": [
    "shutil.copytree('../Code',os.path.join(os.getcwd(),\"code\"))"
   ]
  },
  {
   "cell_type": "code",
   "execution_count": 8,
   "metadata": {},
   "outputs": [
    {
     "data": {
      "text/plain": [
       "'C:\\\\all-in-one\\\\The-Python3-Standard-Library-Example'"
      ]
     },
     "execution_count": 8,
     "metadata": {},
     "output_type": "execute_result"
    }
   ],
   "source": [
    "os.getcwd()"
   ]
  },
  {
   "cell_type": "code",
   "execution_count": 22,
   "metadata": {},
   "outputs": [
    {
     "name": "stdout",
     "output_type": "stream",
     "text": [
      "C:\\software\\python3\\Scripts\\virtualenv.EXE\n"
     ]
    }
   ],
   "source": [
    "print(shutil.which(\"virtualenv\"))"
   ]
  },
  {
   "cell_type": "code",
   "execution_count": 24,
   "metadata": {},
   "outputs": [
    {
     "name": "stdout",
     "output_type": "stream",
     "text": [
      "bztar : bzip2'ed tar-file\n",
      "gztar : gzip'ed tar-file\n",
      "tar : uncompressed tar file\n",
      "xztar : xz'ed tar-file\n",
      "zip : ZIP file\n"
     ]
    }
   ],
   "source": [
    "for i in shutil.get_archive_formats():\n",
    "    print(i[0],\":\",i[1])"
   ]
  },
  {
   "cell_type": "code",
   "execution_count": 33,
   "metadata": {},
   "outputs": [
    {
     "data": {
      "text/plain": [
       "'C:\\\\all-in-one\\\\The-Python3-Standard-Library-Example\\\\code.zip'"
      ]
     },
     "execution_count": 33,
     "metadata": {},
     "output_type": "execute_result"
    }
   ],
   "source": [
    "# make_archive 接收2个参数， root_dir,base_dir\n",
    "# root_dir 跳到要打包的目录的地方\n",
    "# base_dir 选择要打包的目录\n",
    "# 跳到上一层的目录，选择 code 目录，打包，存放到当前文件夹\n",
    "shutil.make_archive(\"code\",\"zip\",root_dir=\"..\",base_dir=\"Docker\")"
   ]
  },
  {
   "cell_type": "code",
   "execution_count": 35,
   "metadata": {},
   "outputs": [],
   "source": [
    "shutil.unpack_archive(\"code.zip\",\"docker\")"
   ]
  },
  {
   "cell_type": "code",
   "execution_count": 42,
   "metadata": {},
   "outputs": [
    {
     "name": "stdout",
     "output_type": "stream",
     "text": [
      "total:  255.400603648\n",
      "used:  203.628294144\n",
      "free:  51.772309504\n"
     ]
    }
   ],
   "source": [
    "total, used, free = shutil.disk_usage(\".\")\n",
    "gib = 2 ** 30\n",
    "gb = 10 ** 9\n",
    "print(\"total: \",total / gb)\n",
    "print(\"used: \", used / gb)\n",
    "print(\"free: \",free / gb)"
   ]
  },
  {
   "cell_type": "code",
   "execution_count": null,
   "metadata": {},
   "outputs": [],
   "source": []
  }
 ],
 "metadata": {
  "kernelspec": {
   "display_name": "Python 3",
   "language": "python",
   "name": "python3"
  },
  "language_info": {
   "codemirror_mode": {
    "name": "ipython",
    "version": 3
   },
   "file_extension": ".py",
   "mimetype": "text/x-python",
   "name": "python",
   "nbconvert_exporter": "python",
   "pygments_lexer": "ipython3",
   "version": "3.6.4"
  }
 },
 "nbformat": 4,
 "nbformat_minor": 2
}
